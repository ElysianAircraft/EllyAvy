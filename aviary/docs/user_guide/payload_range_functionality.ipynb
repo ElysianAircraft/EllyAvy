{
 "cells": [
  {
   "cell_type": "code",
   "execution_count": null,
   "metadata": {
    "tags": [
     "remove-cell"
    ]
   },
   "outputs": [
    {
     "data": {
      "text/markdown": [
       "`HEIGHT_ENERGY`"
      ],
      "text/plain": [
       "<IPython.core.display.Markdown object>"
      ]
     },
     "metadata": {
      "scrapbook": {
       "mime_prefix": "",
       "name": "height_energy"
      }
     },
     "output_type": "display_data"
    },
    {
     "data": {
      "text/markdown": [
       "`aircraft:design:operating_mass`"
      ],
      "text/plain": [
       "<IPython.core.display.Markdown object>"
      ]
     },
     "metadata": {
      "scrapbook": {
       "mime_prefix": "",
       "name": "operating_mass"
      }
     },
     "output_type": "display_data"
    },
    {
     "data": {
      "text/markdown": [
       "`aircraft:crew_and_payload:total_payload_mass`"
      ],
      "text/plain": [
       "<IPython.core.display.Markdown object>"
      ]
     },
     "metadata": {
      "scrapbook": {
       "mime_prefix": "",
       "name": "total_payload_mass"
      }
     },
     "output_type": "display_data"
    },
    {
     "data": {
      "text/markdown": [
       "`mission:design:gross_mass`"
      ],
      "text/plain": [
       "<IPython.core.display.Markdown object>"
      ]
     },
     "metadata": {
      "scrapbook": {
       "mime_prefix": "",
       "name": "design_gross_mass"
      }
     },
     "output_type": "display_data"
    },
    {
     "data": {
      "text/markdown": [
       "`aircraft:fuel:total_capacity`"
      ],
      "text/plain": [
       "<IPython.core.display.Markdown object>"
      ]
     },
     "metadata": {
      "scrapbook": {
       "mime_prefix": "",
       "name": "fuel_capacity"
      }
     },
     "output_type": "display_data"
    },
    {
     "data": {
      "text/markdown": [
       "`mission:objectives:fuel`"
      ],
      "text/plain": [
       "<IPython.core.display.Markdown object>"
      ]
     },
     "metadata": {
      "scrapbook": {
       "mime_prefix": "",
       "name": "objectives_fuel"
      }
     },
     "output_type": "display_data"
    },
    {
     "data": {
      "text/markdown": [
       "`mission:objectives:range`"
      ],
      "text/plain": [
       "<IPython.core.display.Markdown object>"
      ]
     },
     "metadata": {
      "scrapbook": {
       "mime_prefix": "",
       "name": "objectives_range"
      }
     },
     "output_type": "display_data"
    },
    {
     "data": {
      "text/markdown": [
       "`mission:summary:gross_mass`"
      ],
      "text/plain": [
       "<IPython.core.display.Markdown object>"
      ]
     },
     "metadata": {
      "scrapbook": {
       "mime_prefix": "",
       "name": "summary_gross_mass"
      }
     },
     "output_type": "display_data"
    }
   ],
   "source": [
    "# Testing Cell\n",
    "import aviary.api as av\n",
    "from aviary.api import Settings\n",
    "from aviary.utils.doctape import glue_variable, check_value\n",
    "\n",
    "HEIGHT_ENERGY = av.EquationsOfMotion.HEIGHT_ENERGY\n",
    "glue_variable('height_energy', HEIGHT_ENERGY.name, md_code=True)\n",
    "\n",
    "PAYLOAD_RANGE = av.Settings.PAYLOAD_RANGE\n",
    "\n",
    "str_alternate_snippet = f'```\\n{PAYLOAD_RANGE}, {True}\\n```'\n",
    "glue_variable('payload_range_toggle', str_alternate_snippet, md_code=True)\n",
    "\n",
    "\n",
    "glue_variable('operating_mass', av.Aircraft.Design.OPERATING_MASS, md_code=True)\n",
    "glue_variable('total_payload_mass', av.Aircraft.CrewPayload.TOTAL_PAYLOAD_MASS, md_code=True)\n",
    "glue_variable('design_gross_mass', av.Mission.Design.GROSS_MASS, md_code=True)\n",
    "glue_variable('fuel_capacity', av.Aircraft.Fuel.TOTAL_CAPACITY, md_code=True)\n",
    "\n",
    "file_path3 = av.get_path('models/aircraft/test_aircraft/aircraft_for_bench_FwFm.csv')\n",
    "\n",
    "glue_variable('objectives_fuel', av.Mission.Objectives.FUEL, md_code=True)\n",
    "glue_variable('objectives_range', av.Mission.Objectives.RANGE, md_code=True)\n",
    "glue_variable('summary_gross_mass', av.Mission.Summary.GROSS_MASS, md_code=True)"
   ]
  },
  {
   "cell_type": "markdown",
   "metadata": {},
   "source": [
    "# Payload Range Functionality. \n",
    "\n",
    "## Overview\n",
    "\n",
    "Payload Range functionality is currently avaialble for the {glue:md}`height_energy` missions and FLOPS mass systems.\n",
    "\n",
    "A payload-range diagram is an aircraft performance visualization that illustrates the trade off between the how much weight the aircraft can carry in terms of passengers and cargo (payload) vs how far it can fly (range).\n",
    "The payload-range shows 3 different points:\n",
    "- **Maximum Payload Point**: The maximum structural payload the aircraft can carry with sufficient fuel to achieve its design range. \n",
    "- **Maximum Fuel Point**: The maximum fuel the aircraft can hold with sufficient payload to still reach the aircraft's max takeoff weight. \n",
    "- **Ferry Range Point**: The maximum fuel the aircraft can carry with zero payload to achieve maximum possible range. \n",
    "\n",
    "\n",
    "The payload range feature within Aviary works by equating the three points to three missions (one sizing mission and two off-design).\n",
    "The **Maximum Payload Point** is the point which Aviary assumes the user has created a sizing mission for, the two off-design points will be run using the payload and `phase_info` from the sizing mission. \n",
    "We highly recommend that users first read through [Off Design Missions](off_design_missions) to understand what off-design missions are and how aviary runs them.\n",
    "\n",
    "\n",
    "Once the user has a **Maximum Payload Point**, the payload-range function will attempt to run two off-design missions for the **Maximum Fuel Point** and the **Ferry Range Point**. \n",
    "The function will first adjust the `phase_info` profile to give more time for the usually further off-design missions to still converge.\n",
    "This assumes the user provided a `phase_info` with standard climb, cruise, and descent phases, then doubles the `time_duration_bound` of the cruise phase.\n",
    "This extension allows for calculating longer-range scenarios to still converge. \n",
    "\n",
    "\n",
    "Next, the system automatically recalculates the {glue:md}`total_payload_mass` for the off-design missions:\n",
    "\n",
    "- **Maximum Fuel Point**: The payload is assumed to be proportionally reduced in all catagories to accomodate for the additional fuel up to capacity. \n",
    "The `mission_mass` is set to the {glue:md}`design_gross_mass` of the sizing mission/Maximum Payload Point\n",
    "\n",
    "- **Ferry Range Point**: The payload is reduced to one passenger (due to off-design limitations) with the `mission_mass` argument set to the {glue:md}`operating_mass` plus {glue:md}`fuel_capacity`.\n",
    "\n",
    "After after the payload is calculated for the off-design missions, the **Maximum Fuel Point** and **Ferry Range Point** are run immedietly after the **Maximum Payload Point**.\n",
    "\n",
    "\n",
    "## Running a payload/range analysis \n",
    "\n",
    "There are currently two methods to run a payload-range analysis. \n",
    "The first method is to add the \n"
   ]
  },
  {
   "cell_type": "code",
   "execution_count": 15,
   "metadata": {},
   "outputs": [],
   "source": [
    "# %% Capture\n",
    "\n",
    "# import aviary.api as av\n",
    "\n",
    "\n",
    "# # defaults for height energy based phases\n",
    "\n",
    "# phase_info = av.default_height_energy_phase_info\n",
    "\n",
    "# ##################\n",
    "# # Sizing Mission #\n",
    "# ##################\n",
    "# prob = av.AviaryProblem()\n",
    "\n",
    "# # Load aircraft and options data from user\n",
    "# # Allow for user overrides here\n",
    "# prob.load_inputs('models/test_aircraft/aircraft_for_bench_FwFm.csv', phase_info)\n",
    "\n",
    "# # You can either set the payload/range toggle 'settings:payload_range' to True in the input file,\n",
    "# # or you can manually run the payload/range at the end of the script.\n",
    "\n",
    "# # Preprocess inputs\n",
    "# prob.check_and_preprocess_inputs()\n",
    "# prob.add_pre_mission_systems()\n",
    "# prob.add_phases()\n",
    "# prob.add_post_mission_systems()\n",
    "\n",
    "# # Link phases and variables\n",
    "# prob.link_phases()\n",
    "# prob.add_driver('SLSQP', max_iter=50)\n",
    "# prob.add_design_variables()\n",
    "\n",
    "# # Load optimization problem formulation\n",
    "# # Detail which variables the optimizer can control\n",
    "# prob.add_objective()\n",
    "# prob.setup()\n",
    "# prob.set_initial_guesses()\n",
    "# prob.run_aviary_problem()\n",
    "\n",
    "# # Manually run the payload/range analysis\n",
    "# # The script will only print values to the terminal if verbosity is set to VERBOSE (2) or higher\n",
    "# # The analysis can return the max_fuel_plus_payload & ferry fallout missions for further analysis\n",
    "# (prob_fallout_max_fuel_plus_payload, prob_fallout_ferry) = prob.run_payload_range(verbosity=2)\n",
    "\n",
    "# max_payload_plus_fuel__payload = prob.get_val(av.Aircraft.CrewPayload.TOTAL_PAYLOAD_MASS, 'lbm')[0]\n",
    "# max_fuel_plus_payload__payload = prob_fallout_max_fuel_plus_payload.get_val(av.Aircraft.CrewPayload.TOTAL_PAYLOAD_MASS,'lbm')[0]\n",
    "# ferry__payload = prob_fallout_ferry.get_val(av.Aircraft.CrewPayload.TOTAL_PAYLOAD_MASS, 'lbm')[0]\n",
    "\n",
    "\n",
    "# max_payload_plus_fuel__range = prob.get_val(av.Mission.Summary.RANGE, 'nmi')[0]\n",
    "# max_fuel_plus_payload__range = prob_fallout_max_fuel_plus_payload.get_val(av.Mission.Summary.RANGE, 'nmi')[0]\n",
    "# ferry__range = prob_fallout_ferry.get_val(av.Mission.Summary.RANGE, 'nmi')[0]\n",
    "\n",
    "\n",
    "# print('--------------------')\n",
    "# print('Manual Payload/Range')\n",
    "# print('--------------------')\n",
    "\n",
    "# print('Range', 0, max_payload_plus_fuel__range, max_fuel_plus_payload__range, ferry__range)\n",
    "# print('Payload',max_payload_plus_fuel__payload, max_payload_plus_fuel__payload, max_fuel_plus_payload__payload, ferry__payload)"
   ]
  },
  {
   "cell_type": "code",
   "execution_count": 16,
   "metadata": {
    "tags": [
     "remove-cell"
    ]
   },
   "outputs": [],
   "source": [
    "# Testing Cell\n",
    "import os\n",
    "import aviary.api as av\n",
    "from aviary.utils.doctape import check_contains\n",
    "\n",
    "# make sure off_design_example.py exists in aviary/examples folder\n",
    "off_design_examples = av.get_path(os.path.join('examples'))\n",
    "check_contains(\n",
    "    ('run_off_design_example.py'),\n",
    "    os.listdir(off_design_examples),\n",
    "    error_string='{var} not in ' + str(off_design_examples),\n",
    "    error_type=FileNotFoundError,\n",
    ")\n",
    "\n",
    "# make sure run_level2_example.py exists in aviary/examples folder\n",
    "run_level2_examples = av.get_path(os.path.join('examples'))\n",
    "check_contains(\n",
    "    ('run_level2_example.py'),\n",
    "    os.listdir(run_level2_examples),\n",
    "    error_string='{var} not in ' + str(run_level2_examples),\n",
    "    error_type=FileNotFoundError,\n",
    ")"
   ]
  }
 ],
 "metadata": {
  "kernelspec": {
   "display_name": "Aviary-Clone",
   "language": "python",
   "name": "python3"
  },
  "language_info": {
   "codemirror_mode": {
    "name": "ipython",
    "version": 3
   },
   "file_extension": ".py",
   "mimetype": "text/x-python",
   "name": "python",
   "nbconvert_exporter": "python",
   "pygments_lexer": "ipython3",
   "version": "3.12.10"
  }
 },
 "nbformat": 4,
 "nbformat_minor": 4
}
